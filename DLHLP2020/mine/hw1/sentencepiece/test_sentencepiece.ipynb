{
 "cells": [
  {
   "cell_type": "code",
   "execution_count": 2,
   "metadata": {
    "collapsed": true
   },
   "outputs": [],
   "source": [
    "import sentencepiece as spm\n",
    "import os"
   ]
  },
  {
   "cell_type": "code",
   "execution_count": 6,
   "outputs": [
    {
     "data": {
      "text/plain": "True"
     },
     "execution_count": 6,
     "metadata": {},
     "output_type": "execute_result"
    }
   ],
   "source": [
    "data_dir = 'ML_study/chapter5/DATA/rawdata/ted2020/'\n",
    "os.path.exists(data_dir)"
   ],
   "metadata": {
    "collapsed": false,
    "pycharm": {
     "name": "#%%\n"
    }
   }
  },
  {
   "cell_type": "code",
   "execution_count": 10,
   "outputs": [
    {
     "data": {
      "text/plain": "True"
     },
     "execution_count": 10,
     "metadata": {},
     "output_type": "execute_result"
    }
   ],
   "source": [
    "train_dev_raw_zh = os.path.join(data_dir,'train_dev.raw.zh')\n",
    "os.path.exists(train_dev_raw_zh)"
   ],
   "metadata": {
    "collapsed": false,
    "pycharm": {
     "name": "#%%\n"
    }
   }
  },
  {
   "cell_type": "code",
   "execution_count": 17,
   "outputs": [
    {
     "data": {
      "text/plain": "True"
     },
     "execution_count": 17,
     "metadata": {},
     "output_type": "execute_result"
    }
   ],
   "source": [
    "train_dev_raw_en = os.path.join(data_dir,'train_dev.raw.en')\n",
    "os.path.exists(train_dev_raw_en)"
   ],
   "metadata": {
    "collapsed": false,
    "pycharm": {
     "name": "#%%\n"
    }
   }
  },
  {
   "cell_type": "code",
   "execution_count": 16,
   "outputs": [
    {
     "data": {
      "text/plain": "['非常謝謝你，克里斯。能有這個機會第二度踏上這個演講台\\n',\n '真是一大榮幸。我非常感激。\\n',\n '這個研討會給我留下了極為深刻的印象，我想感謝大家 對我之前演講的好評。\\n',\n '我是由衷的想這麼說，有部份原因是因為 —— 我真的有需要!\\n',\n '請你們設身處地為我想一想！\\n',\n '我曾搭乘副總統專機八年。\\n',\n '現在我卻必須脫了鞋子才能上飛機!\\n',\n '讓我跟你們說一個很短的故事，你們就會明白我的日子是怎麼過的。\\n',\n '這是一個真實的故事 — 徹頭徹尾都是真實的。\\n',\n '在我跟我夫人蒂佩爾離開 —— 白宮 —— 後 我們從那什維爾的家開車到 東邊 50 英哩外的一個我們擁有的小農場 —\\n']"
     },
     "execution_count": 16,
     "metadata": {},
     "output_type": "execute_result"
    }
   ],
   "source": [
    "count = 0\n",
    "test_zh_list = list()\n",
    "with open(train_dev_raw_zh, 'r') as file:\n",
    "    for line in file:\n",
    "        if count == 10:\n",
    "            break\n",
    "        test_zh_list.append(line)\n",
    "        count = count + 1\n",
    "test_zh_list"
   ],
   "metadata": {
    "collapsed": false,
    "pycharm": {
     "name": "#%%\n"
    }
   }
  },
  {
   "cell_type": "code",
   "execution_count": 18,
   "outputs": [
    {
     "data": {
      "text/plain": "['Thank you so much, Chris.\\n',\n \"And it's truly a great honor to have the opportunity to come to this stage twice; I'm extremely grateful.\\n\",\n 'I have been blown away by this conference, and I want to thank all of you for the many nice comments about what I had to say the other night.\\n',\n 'And I say that sincerely, partly because  I need that.\\n',\n 'Put yourselves in my position.\\n',\n 'I flew on Air Force Two for eight years.\\n',\n 'Now I have to take off my shoes or boots to get on an airplane!\\n',\n \"I'll tell you one quick story to illustrate what that's been like for me.\\n\",\n \"It's a true story -- every bit of this is true.\\n\",\n 'Soon after Tipper and I left the --  White House --  we were driving from our home in Nashville to a little farm we have 50 miles east of Nashville.\\n']"
     },
     "execution_count": 18,
     "metadata": {},
     "output_type": "execute_result"
    }
   ],
   "source": [
    "count = 0\n",
    "test_en_list = list()\n",
    "with open(train_dev_raw_en, 'r') as file:\n",
    "    for line in file:\n",
    "        if count == 10:\n",
    "            break\n",
    "        test_en_list.append(line)\n",
    "        count = count + 1\n",
    "test_en_list"
   ],
   "metadata": {
    "collapsed": false,
    "pycharm": {
     "name": "#%%\n"
    }
   }
  },
  {
   "cell_type": "code",
   "execution_count": 19,
   "outputs": [],
   "source": [
    "def strQ2B(ustring):\n",
    "    \"\"\"Full width -> half width\"\"\"\n",
    "    # 全角字变半角字\n",
    "    # 对字母 数字 标点符号 从全角字转成半角字\n",
    "    ss = []\n",
    "    for s in ustring:\n",
    "        rstring = \"\"\n",
    "        for uchar in s:\n",
    "            inside_code = ord(uchar)\n",
    "            if inside_code == 12288:  # Full width space: direct conversion\n",
    "                inside_code = 32\n",
    "            elif (inside_code >= 65281 and inside_code <= 65374):  # Full width chars (except space) conversion\n",
    "                inside_code -= 65248\n",
    "            rstring += chr(inside_code)\n",
    "        ss.append(rstring)\n",
    "    return ''.join(ss)"
   ],
   "metadata": {
    "collapsed": false,
    "pycharm": {
     "name": "#%%\n"
    }
   }
  },
  {
   "cell_type": "code",
   "execution_count": 21,
   "outputs": [
    {
     "name": "stdout",
     "output_type": "stream",
     "text": [
      "raw  :  非常謝謝你，克里斯。能有這個機會第二度踏上這個演講台\n",
      "\n",
      "after:  非常謝謝你,克里斯。能有這個機會第二度踏上這個演講台\n",
      "\n",
      "raw  :  真是一大榮幸。我非常感激。\n",
      "\n",
      "after:  真是一大榮幸。我非常感激。\n",
      "\n",
      "raw  :  這個研討會給我留下了極為深刻的印象，我想感謝大家 對我之前演講的好評。\n",
      "\n",
      "after:  這個研討會給我留下了極為深刻的印象,我想感謝大家 對我之前演講的好評。\n",
      "\n",
      "raw  :  我是由衷的想這麼說，有部份原因是因為 —— 我真的有需要!\n",
      "\n",
      "after:  我是由衷的想這麼說,有部份原因是因為 —— 我真的有需要!\n",
      "\n",
      "raw  :  請你們設身處地為我想一想！\n",
      "\n",
      "after:  請你們設身處地為我想一想!\n",
      "\n",
      "raw  :  我曾搭乘副總統專機八年。\n",
      "\n",
      "after:  我曾搭乘副總統專機八年。\n",
      "\n",
      "raw  :  現在我卻必須脫了鞋子才能上飛機!\n",
      "\n",
      "after:  現在我卻必須脫了鞋子才能上飛機!\n",
      "\n",
      "raw  :  讓我跟你們說一個很短的故事，你們就會明白我的日子是怎麼過的。\n",
      "\n",
      "after:  讓我跟你們說一個很短的故事,你們就會明白我的日子是怎麼過的。\n",
      "\n",
      "raw  :  這是一個真實的故事 — 徹頭徹尾都是真實的。\n",
      "\n",
      "after:  這是一個真實的故事 — 徹頭徹尾都是真實的。\n",
      "\n",
      "raw  :  在我跟我夫人蒂佩爾離開 —— 白宮 —— 後 我們從那什維爾的家開車到 東邊 50 英哩外的一個我們擁有的小農場 —\n",
      "\n",
      "after:  在我跟我夫人蒂佩爾離開 —— 白宮 —— 後 我們從那什維爾的家開車到 東邊 50 英哩外的一個我們擁有的小農場 —\n",
      "\n"
     ]
    }
   ],
   "source": [
    "for each_zh in test_zh_list:\n",
    "    new_zh = strQ2B(each_zh)\n",
    "    print('raw  : ', each_zh)\n",
    "    print('after: ', new_zh)"
   ],
   "metadata": {
    "collapsed": false,
    "pycharm": {
     "name": "#%%\n"
    }
   }
  },
  {
   "cell_type": "code",
   "execution_count": 28,
   "outputs": [],
   "source": [
    "import re\n",
    "def clean_s(s, lang):\n",
    "    if lang == 'en':\n",
    "        s = re.sub(r\"\\([^()]*\\)\", \"\", s) # remove ([text])         # 去掉() []\n",
    "        s = s.replace('-', '') # remove '-'                        # 去掉-\n",
    "        s = re.sub('([.,;!?()\\\"])', r' \\1 ', s) # keep punctuation # 用\\1代表所有标点符号\n",
    "    elif lang == 'zh':\n",
    "        s = strQ2B(s) # 全角变半角\n",
    "        s = re.sub(r\"\\([^()]*\\)\", \"\", s) # remove ([text])        # 去掉() []\n",
    "        s = s.replace(' ', '')\n",
    "        s = s.replace('—', '')\n",
    "        s = s.replace('“', '\"')\n",
    "        s = s.replace('”', '\"') #\n",
    "        s = s.replace('_', '')                                    # 去掉空格 下划线 双引号 tab\n",
    "        s = re.sub('([。,;!?()\\\"~「」])', r' \\1 ', s) # keep punctuation # 用\\1代表所有标点符号\n",
    "    s = ' '.join(s.strip().split())\n",
    "    return s"
   ],
   "metadata": {
    "collapsed": false,
    "pycharm": {
     "name": "#%%\n"
    }
   }
  },
  {
   "cell_type": "code",
   "execution_count": 27,
   "outputs": [
    {
     "name": "stdout",
     "output_type": "stream",
     "text": [
      "\\1\n"
     ]
    }
   ],
   "source": [
    "def clean_corpus(prefix, l1, l2, ratio=9, max_len=1000, min_len=1):\n",
    "    if os.path.exists()\n",
    "    if Path(f'{prefix}.clean.{l1}').exists() and Path(f'{prefix}.clean.{l2}').exists():\n",
    "        print(f'{prefix}.clean.{l1} & {l2} exists. skipping clean.')\n",
    "        return\n",
    "    with open(f'{prefix}.{l1}', 'r') as l1_in_f:\n",
    "        with open(f'{prefix}.{l2}', 'r') as l2_in_f:\n",
    "            with open(f'{prefix}.clean.{l1}', 'w') as l1_out_f:\n",
    "                with open(f'{prefix}.clean.{l2}', 'w') as l2_out_f:\n",
    "                    for s1 in l1_in_f:\n",
    "                        s1 = s1.strip()\n",
    "                        s2 = l2_in_f.readline().strip()\n",
    "                        s1 = clean_s(s1, l1)\n",
    "                        s2 = clean_s(s2, l2)\n",
    "                        s1_len = len_s(s1, l1)\n",
    "                        s2_len = len_s(s2, l2)\n",
    "                        if min_len > 0: # remove short sentence\n",
    "                            if s1_len < min_len or s2_len < min_len:\n",
    "                                continue\n",
    "                        if max_len > 0: # remove long sentence\n",
    "                            if s1_len > max_len or s2_len > max_len:\n",
    "                                continue\n",
    "                        if ratio > 0: # remove by ratio of length\n",
    "                            if s1_len/s2_len > ratio or s2_len/s1_len > ratio:  # 两个句子的比值大于ratio也要清洗掉\n",
    "                                continue\n",
    "                        print(s1, file=l1_out_f)\n",
    "                        print(s2, file=l2_out_f)"
   ],
   "metadata": {
    "collapsed": false,
    "pycharm": {
     "name": "#%%\n"
    }
   }
  }
 ],
 "metadata": {
  "kernelspec": {
   "display_name": "Python 3",
   "language": "python",
   "name": "python3"
  },
  "language_info": {
   "codemirror_mode": {
    "name": "ipython",
    "version": 2
   },
   "file_extension": ".py",
   "mimetype": "text/x-python",
   "name": "python",
   "nbconvert_exporter": "python",
   "pygments_lexer": "ipython2",
   "version": "2.7.6"
  }
 },
 "nbformat": 4,
 "nbformat_minor": 0
}