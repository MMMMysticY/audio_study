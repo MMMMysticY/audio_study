{
 "cells": [
  {
   "cell_type": "code",
   "execution_count": 13,
   "metadata": {
    "collapsed": true,
    "pycharm": {
     "name": "#%%\n"
    }
   },
   "outputs": [],
   "source": [
    "import torchaudio\n",
    "import os\n",
    "import torch"
   ]
  },
  {
   "cell_type": "code",
   "execution_count": 14,
   "outputs": [
    {
     "data": {
      "text/plain": "'/home/wy'"
     },
     "execution_count": 14,
     "metadata": {},
     "output_type": "execute_result"
    }
   ],
   "source": [
    "os.getcwd()"
   ],
   "metadata": {
    "collapsed": false,
    "pycharm": {
     "name": "#%%\n"
    }
   }
  },
  {
   "cell_type": "code",
   "execution_count": 15,
   "outputs": [
    {
     "name": "stdout",
     "output_type": "stream",
     "text": [
      "waveform:  torch.Size([1, 127680])\n",
      "sample_rate:  48000\n",
      "time:  2.66\n"
     ]
    }
   ],
   "source": [
    "waveform, sample_rate = torchaudio.load('audio_study/DLHLP2020/mine/data_dir/DLHLP/train/000001.wav')\n",
    "# load方法得到waveform 和 sample_rate\n",
    "print('waveform: ', waveform.shape)\n",
    "print('sample_rate: ', sample_rate)\n",
    "print('time: ', waveform.shape[1]/sample_rate)\n",
    "# waveform / sample_rate 就是时间"
   ],
   "metadata": {
    "collapsed": false,
    "pycharm": {
     "name": "#%%\n"
    }
   }
  },
  {
   "cell_type": "code",
   "execution_count": 17,
   "outputs": [
    {
     "name": "stdout",
     "output_type": "stream",
     "text": [
      "waveform:  torch.Size([2, 860523])\n",
      "sample_rate:  44100\n",
      "time:  19.512993197278913\n"
     ]
    }
   ],
   "source": [
    "waveform2, sample_rate2 = torchaudio.load('audio_study/data/audios/001.mp3')\n",
    "# load方法得到waveform 和 sample_rate\n",
    "print('waveform: ', waveform2.shape)\n",
    "print('sample_rate: ', sample_rate2)\n",
    "print('time: ', waveform2.shape[1]/sample_rate2)\n",
    "# waveform / sample_rate 就是时间"
   ],
   "metadata": {
    "collapsed": false,
    "pycharm": {
     "name": "#%%\n"
    }
   }
  },
  {
   "cell_type": "code",
   "execution_count": 6,
   "outputs": [
    {
     "data": {
      "text/plain": "torch.Size([264, 13])"
     },
     "execution_count": 6,
     "metadata": {},
     "output_type": "execute_result"
    }
   ],
   "source": [
    "mfcc_feature = torchaudio.compliance.kaldi.mfcc(waveform, sample_frequency=sample_rate)\n",
    "mfcc_feature.shape\n",
    "# mfcc的第二维降维成了13 第一维是时间264对应了2.66"
   ],
   "metadata": {
    "collapsed": false,
    "pycharm": {
     "name": "#%%\n"
    }
   }
  },
  {
   "cell_type": "code",
   "execution_count": 18,
   "outputs": [
    {
     "data": {
      "text/plain": "torch.Size([1949, 13])"
     },
     "execution_count": 18,
     "metadata": {},
     "output_type": "execute_result"
    }
   ],
   "source": [
    "mfcc_feature2 = torchaudio.compliance.kaldi.mfcc(waveform2, sample_frequency=sample_rate2)\n",
    "mfcc_feature2.shape\n",
    "# mfcc的第二维降维成了13 第一维是时间1939对应了时间是19.5s"
   ],
   "metadata": {
    "collapsed": false,
    "pycharm": {
     "name": "#%%\n"
    }
   }
  },
  {
   "cell_type": "code",
   "execution_count": 7,
   "outputs": [
    {
     "data": {
      "text/plain": "torch.Size([264, 40])"
     },
     "execution_count": 7,
     "metadata": {},
     "output_type": "execute_result"
    }
   ],
   "source": [
    "fbank_feature = torchaudio.compliance.kaldi.fbank(waveform, sample_frequency=sample_rate, num_mel_bins=40)\n",
    "fbank_feature.shape\n",
    "# fbank的第二维降维成了40"
   ],
   "metadata": {
    "collapsed": false,
    "pycharm": {
     "name": "#%%\n"
    }
   }
  },
  {
   "cell_type": "code",
   "execution_count": null,
   "outputs": [],
   "source": [
    "# add deltas\n",
    "# 加上时域的delta 一次微分和二次微分"
   ],
   "metadata": {
    "collapsed": false,
    "pycharm": {
     "name": "#%%\n"
    }
   }
  },
  {
   "cell_type": "code",
   "execution_count": 9,
   "outputs": [
    {
     "data": {
      "text/plain": "torch.Size([264, 39])"
     },
     "execution_count": 9,
     "metadata": {},
     "output_type": "execute_result"
    }
   ],
   "source": [
    "d1 = torchaudio.functional.compute_deltas(mfcc_feature)\n",
    "d2 = torchaudio.functional.compute_deltas(d1)\n",
    "feature = torch.cat([mfcc_feature, d1, d2], dim = 1)\n",
    "feature.shape\n",
    "# d1是一阶微分 d2是二阶微分 都是13维 最终拼接起来就是39维"
   ],
   "metadata": {
    "collapsed": false,
    "pycharm": {
     "name": "#%%\n"
    }
   }
  },
  {
   "cell_type": "code",
   "execution_count": 11,
   "outputs": [
    {
     "name": "stdout",
     "output_type": "stream",
     "text": [
      "torch.Size([1, 39])\n",
      "torch.Size([1, 39])\n"
     ]
    }
   ],
   "source": [
    "# CMVN 对第一维归一化\n",
    "eps = 1e-10\n",
    "mean = feature.mean(0, keepdim = True)\n",
    "std = feature.std(0, keepdim = True)\n",
    "print(mean.shape)\n",
    "print(std.shape)"
   ],
   "metadata": {
    "collapsed": false,
    "pycharm": {
     "name": "#%%\n"
    }
   }
  },
  {
   "cell_type": "code",
   "execution_count": 12,
   "outputs": [],
   "source": [
    "feature = (feature - mean) / (std + eps)"
   ],
   "metadata": {
    "collapsed": false,
    "pycharm": {
     "name": "#%%\n"
    }
   }
  }
 ],
 "metadata": {
  "kernelspec": {
   "display_name": "Python 3",
   "language": "python",
   "name": "python3"
  },
  "language_info": {
   "codemirror_mode": {
    "name": "ipython",
    "version": 2
   },
   "file_extension": ".py",
   "mimetype": "text/x-python",
   "name": "python",
   "nbconvert_exporter": "python",
   "pygments_lexer": "ipython2",
   "version": "2.7.6"
  }
 },
 "nbformat": 4,
 "nbformat_minor": 0
}