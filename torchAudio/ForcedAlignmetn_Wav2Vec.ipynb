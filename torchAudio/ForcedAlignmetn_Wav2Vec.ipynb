{
 "cells": [
  {
   "cell_type": "markdown",
   "metadata": {
    "collapsed": true,
    "pycharm": {
     "name": "#%% md\n"
    }
   },
   "source": [
    "# Forced Alignment with Wav2Vec\n",
    "文字和音频的严格对齐任务\n",
    "具体步骤：\n",
    "1. 从音频讯号中逐帧进行label的概率生成\n",
    "2. 生成网格矩阵，表示标签对齐的概率\n",
    "3. 从网格中找到最可能的路径"
   ]
  },
  {
   "cell_type": "code",
   "execution_count": 1,
   "outputs": [
    {
     "name": "stdout",
     "output_type": "stream",
     "text": [
      "1.11.0\n",
      "0.11.0\n",
      "cuda:1\n"
     ]
    }
   ],
   "source": [
    "import os\n",
    "from dataclasses import dataclass\n",
    "\n",
    "import IPython\n",
    "import matplotlib\n",
    "import matplotlib.pyplot as plt\n",
    "import requests\n",
    "import torch\n",
    "import torchaudio\n",
    "\n",
    "matplotlib.rcParams[\"figure.figsize\"] = [16.0, 4.8]\n",
    "\n",
    "torch.random.manual_seed(0)\n",
    "device = torch.device(\"cuda:1\" if torch.cuda.is_available() else \"cpu\")\n",
    "print(torch.__version__)\n",
    "print(torchaudio.__version__)\n",
    "print(device)"
   ],
   "metadata": {
    "collapsed": false,
    "pycharm": {
     "name": "#%%\n"
    }
   }
  },
  {
   "cell_type": "code",
   "execution_count": 2,
   "outputs": [],
   "source": [
    "data_root_path = 'audio_study/data/study_data/'"
   ],
   "metadata": {
    "collapsed": false,
    "pycharm": {
     "name": "#%%\n"
    }
   }
  },
  {
   "cell_type": "code",
   "execution_count": 3,
   "outputs": [],
   "source": [
    "SPEECH_URL = \"https://pytorch-tutorial-assets.s3.amazonaws.com/VOiCES_devkit/source-16k/train/sp0307/Lab41-SRI-VOiCES-src-sp0307-ch127535-sg0042.wav\"  # noqa: E501\n",
    "SPEECH_FILE = data_root_path + \"speech.wav\"\n",
    "\n",
    "if not os.path.exists(SPEECH_FILE):\n",
    "    os.makedirs(\"_assets\", exist_ok=True)\n",
    "    with open(SPEECH_FILE, \"wb\") as file:\n",
    "        file.write(requests.get(SPEECH_URL).content)"
   ],
   "metadata": {
    "collapsed": false,
    "pycharm": {
     "name": "#%%\n"
    }
   }
  },
  {
   "cell_type": "code",
   "execution_count": 4,
   "outputs": [
    {
     "data": {
      "text/plain": "('-',\n '|',\n 'E',\n 'T',\n 'A',\n 'O',\n 'N',\n 'I',\n 'H',\n 'S',\n 'R',\n 'D',\n 'L',\n 'U',\n 'M',\n 'W',\n 'C',\n 'F',\n 'G',\n 'Y',\n 'P',\n 'B',\n 'V',\n 'K',\n \"'\",\n 'X',\n 'J',\n 'Q',\n 'Z')"
     },
     "execution_count": 4,
     "metadata": {},
     "output_type": "execute_result"
    }
   ],
   "source": [
    "# 导入模型\n",
    "bundle = torchaudio.pipelines.WAV2VEC2_ASR_BASE_960H\n",
    "model = bundle.get_model().to(device)\n",
    "labels = bundle.get_labels()\n",
    "labels"
   ],
   "metadata": {
    "collapsed": false,
    "pycharm": {
     "name": "#%%\n"
    }
   }
  },
  {
   "cell_type": "code",
   "execution_count": 5,
   "outputs": [],
   "source": [
    "with torch.inference_mode():\n",
    "    waveform, _ = torchaudio.load(SPEECH_FILE) # 导入音频\n",
    "    emissions, _ = model(waveform.to(device))  # 进行推理[batch, time frame, classes]\n",
    "    emissions = torch.log_softmax(emissions, dim=-1) # 将score变为概率分布"
   ],
   "metadata": {
    "collapsed": false,
    "pycharm": {
     "name": "#%%\n"
    }
   }
  },
  {
   "cell_type": "code",
   "execution_count": 6,
   "outputs": [
    {
     "data": {
      "text/plain": "torch.Size([1, 169, 29])"
     },
     "execution_count": 6,
     "metadata": {},
     "output_type": "execute_result"
    }
   ],
   "source": [
    "emissions.shape"
   ],
   "metadata": {
    "collapsed": false,
    "pycharm": {
     "name": "#%%\n"
    }
   }
  },
  {
   "cell_type": "code",
   "execution_count": 9,
   "outputs": [],
   "source": [
    "emissions = emissions[0]"
   ],
   "metadata": {
    "collapsed": false,
    "pycharm": {
     "name": "#%%\n"
    }
   }
  },
  {
   "cell_type": "code",
   "execution_count": 10,
   "outputs": [
    {
     "data": {
      "text/plain": "torch.Size([169, 29])"
     },
     "execution_count": 10,
     "metadata": {},
     "output_type": "execute_result"
    }
   ],
   "source": [
    "emissions.shape"
   ],
   "metadata": {
    "collapsed": false,
    "pycharm": {
     "name": "#%%\n"
    }
   }
  },
  {
   "cell_type": "code",
   "execution_count": 16,
   "outputs": [],
   "source": [
    "emissions = emissions.cpu().detach()"
   ],
   "metadata": {
    "collapsed": false,
    "pycharm": {
     "name": "#%%\n"
    }
   }
  },
  {
   "cell_type": "code",
   "execution_count": 11,
   "outputs": [
    {
     "data": {
      "text/plain": "{'-': 0,\n '|': 1,\n 'E': 2,\n 'T': 3,\n 'A': 4,\n 'O': 5,\n 'N': 6,\n 'I': 7,\n 'H': 8,\n 'S': 9,\n 'R': 10,\n 'D': 11,\n 'L': 12,\n 'U': 13,\n 'M': 14,\n 'W': 15,\n 'C': 16,\n 'F': 17,\n 'G': 18,\n 'Y': 19,\n 'P': 20,\n 'B': 21,\n 'V': 22,\n 'K': 23,\n \"'\": 24,\n 'X': 25,\n 'J': 26,\n 'Q': 27,\n 'Z': 28}"
     },
     "execution_count": 11,
     "metadata": {},
     "output_type": "execute_result"
    }
   ],
   "source": [
    "# 生成转换概率矩阵\n",
    "# 转换概率矩阵是一个2D矩阵 横轴纵轴分别是时间time和文字label\n",
    "transcript = \"I|HAD|THAT|CURIOSITY|BESIDE|ME|AT|THIS|MOMENT\"\n",
    "dictionary = {c: i for i, c in enumerate(labels)}\n",
    "dictionary"
   ],
   "metadata": {
    "collapsed": false,
    "pycharm": {
     "name": "#%%\n"
    }
   }
  },
  {
   "cell_type": "code",
   "execution_count": 12,
   "outputs": [
    {
     "name": "stdout",
     "output_type": "stream",
     "text": [
      "[('I', 7), ('|', 1), ('H', 8), ('A', 4), ('D', 11), ('|', 1), ('T', 3), ('H', 8), ('A', 4), ('T', 3), ('|', 1), ('C', 16), ('U', 13), ('R', 10), ('I', 7), ('O', 5), ('S', 9), ('I', 7), ('T', 3), ('Y', 19), ('|', 1), ('B', 21), ('E', 2), ('S', 9), ('I', 7), ('D', 11), ('E', 2), ('|', 1), ('M', 14), ('E', 2), ('|', 1), ('A', 4), ('T', 3), ('|', 1), ('T', 3), ('H', 8), ('I', 7), ('S', 9), ('|', 1), ('M', 14), ('O', 5), ('M', 14), ('E', 2), ('N', 6), ('T', 3)]\n",
      "[7, 1, 8, 4, 11, 1, 3, 8, 4, 3, 1, 16, 13, 10, 7, 5, 9, 7, 3, 19, 1, 21, 2, 9, 7, 11, 2, 1, 14, 2, 1, 4, 3, 1, 3, 8, 7, 9, 1, 14, 5, 14, 2, 6, 3]\n"
     ]
    }
   ],
   "source": [
    "tokens = [dictionary[c] for c in transcript]\n",
    "print(list(zip(transcript, tokens)))\n",
    "# 一个从label到int的对应\n",
    "print(tokens)"
   ],
   "metadata": {
    "collapsed": false,
    "pycharm": {
     "name": "#%%\n"
    }
   }
  },
  {
   "cell_type": "code",
   "execution_count": 17,
   "outputs": [],
   "source": [
    "def get_trellis(emission, tokens, blank_id=0):\n",
    "    num_frame = emission.size(0) # 时间维度上有time frame个信息\n",
    "    num_tokens = len(tokens) # tokens可选文本的信息\n",
    "\n",
    "    # Trellis has extra diemsions for both time axis and tokens.\n",
    "    # The extra dim for tokens represents <SoS> (start-of-sentence)\n",
    "    # The extra dim for time axis is for simplification of the code.\n",
    "    trellis = torch.full((num_frame + 1, num_tokens + 1), -float(\"inf\")) # 转换矩阵的维度是[time frame +1, num_tokens + 1]\n",
    "                                                                         # 所以转换矩阵就是在每个时间维度上，从上一时刻的token和这一时刻的音频信息 进行这一时刻token概率预测的过程，对于每一个t都对应了所有的token个概率\n",
    "    #[time frame +1]的原因是有一个起始位置 翻译从第二个位置即下标1开始\n",
    "    #[num_tokens + 1]的原因是有一个SOS token的位置\n",
    "    trellis[:, 0] = 0               # 第一个token是<sos> 0 或者说是None\n",
    "    for t in range(num_frame):\n",
    "        trellis[t + 1, 1:] = torch.maximum(\n",
    "            # Score for staying at the same token\n",
    "            trellis[t, 1:] + emission[t, blank_id], # 上一步取每个label的token信息 trellis[t,1:] 加上CTC语义识别为None的概率和 emission[t, blank_id]\n",
    "            # Score for changing to the next token\n",
    "            trellis[t, :-1] + emission[t, tokens], # CTC在t时刻对应上一个前一个token的概率 CTC在t时刻取每个新tokens的概率 emission[t, tokens]\n",
    "        )\n",
    "    return trellis\n",
    "\n",
    "\n",
    "trellis = get_trellis(emissions, tokens)\n",
    "# 得到的就是在每个时间片t时刻转移到下一个token的概率"
   ],
   "metadata": {
    "collapsed": false,
    "pycharm": {
     "name": "#%%\n"
    }
   }
  },
  {
   "cell_type": "code",
   "execution_count": 18,
   "outputs": [
    {
     "data": {
      "text/plain": "<Figure size 1152x345.6 with 2 Axes>",
      "image/png": "[encoded data removed]"
     },
     "metadata": {
      "needs_background": "light"
     },
     "output_type": "display_data"
    }
   ],
   "source": [
    "plt.imshow(trellis[1:, 1:].T, origin=\"lower\")\n",
    "plt.annotate(\"- Inf\", (trellis.size(1) / 5, trellis.size(1) / 1.5))\n",
    "plt.colorbar()\n",
    "plt.show()\n",
    "# 可以看到对角线有一个明显的曲线"
   ],
   "metadata": {
    "collapsed": false,
    "pycharm": {
     "name": "#%%\n"
    }
   }
  },
  {
   "cell_type": "code",
   "execution_count": 19,
   "outputs": [
    {
     "name": "stdout",
     "output_type": "stream",
     "text": [
      "[Point(token_index=0, time_index=30, score=0.9999842643737793), Point(token_index=0, time_index=31, score=0.9844332933425903), Point(token_index=0, time_index=32, score=0.9999706745147705), Point(token_index=0, time_index=33, score=0.15372951328754425), Point(token_index=1, time_index=34, score=0.9999173879623413), Point(token_index=1, time_index=35, score=0.607542097568512), Point(token_index=2, time_index=36, score=0.9997720122337341), Point(token_index=2, time_index=37, score=0.9997082352638245), Point(token_index=3, time_index=38, score=0.9999358654022217), Point(token_index=3, time_index=39, score=0.9861365556716919), Point(token_index=4, time_index=40, score=0.9241234660148621), Point(token_index=4, time_index=41, score=0.9259020686149597), Point(token_index=4, time_index=42, score=0.015581986866891384), Point(token_index=5, time_index=43, score=0.99983811378479), Point(token_index=6, time_index=44, score=0.9988446235656738), Point(token_index=6, time_index=45, score=0.10160759091377258), Point(token_index=7, time_index=46, score=0.9999426603317261), Point(token_index=7, time_index=47, score=0.9999943971633911), Point(token_index=8, time_index=48, score=0.9979614019393921), Point(token_index=8, time_index=49, score=0.03596901893615723), Point(token_index=8, time_index=50, score=0.061865560710430145), Point(token_index=9, time_index=51, score=4.367088695289567e-05), Point(token_index=10, time_index=52, score=0.9999799728393555), Point(token_index=10, time_index=53, score=0.9966416358947754), Point(token_index=10, time_index=54, score=0.9999250173568726), Point(token_index=11, time_index=55, score=0.9999982118606567), Point(token_index=11, time_index=56, score=0.9990725517272949), Point(token_index=11, time_index=57, score=0.9999996423721313), Point(token_index=11, time_index=58, score=0.9999996423721313), Point(token_index=11, time_index=59, score=0.8452412486076355), Point(token_index=12, time_index=60, score=0.9999996423721313), Point(token_index=12, time_index=61, score=0.9996023774147034), Point(token_index=13, time_index=62, score=0.999998927116394), Point(token_index=13, time_index=63, score=0.0035328702069818974), Point(token_index=13, time_index=64, score=1.0), Point(token_index=13, time_index=65, score=1.0), Point(token_index=14, time_index=66, score=0.9999915361404419), Point(token_index=14, time_index=67, score=0.9971694350242615), Point(token_index=14, time_index=68, score=0.9999990463256836), Point(token_index=14, time_index=69, score=0.9999992847442627), Point(token_index=14, time_index=70, score=0.9999997615814209), Point(token_index=14, time_index=71, score=0.9999998807907104), Point(token_index=14, time_index=72, score=0.9999881982803345), Point(token_index=14, time_index=73, score=0.011402956210076809), Point(token_index=15, time_index=74, score=0.9999977350234985), Point(token_index=15, time_index=75, score=0.9996137619018555), Point(token_index=15, time_index=76, score=0.999998927116394), Point(token_index=15, time_index=77, score=0.9730319976806641), Point(token_index=16, time_index=78, score=0.999998927116394), Point(token_index=16, time_index=79, score=0.9949848651885986), Point(token_index=16, time_index=80, score=0.999998927116394), Point(token_index=16, time_index=81, score=0.9999129772186279), Point(token_index=17, time_index=82, score=0.9999774694442749), Point(token_index=17, time_index=83, score=0.6590238213539124), Point(token_index=17, time_index=84, score=0.9984400868415833), Point(token_index=18, time_index=85, score=0.9999874830245972), Point(token_index=18, time_index=86, score=0.999371349811554), Point(token_index=18, time_index=87, score=0.9999988079071045), Point(token_index=18, time_index=88, score=0.10344137996435165), Point(token_index=19, time_index=89, score=0.9999969005584717), Point(token_index=19, time_index=90, score=0.397358238697052), Point(token_index=20, time_index=91, score=0.9999932050704956), Point(token_index=20, time_index=92, score=1.7012191619869554e-06), Point(token_index=20, time_index=93, score=0.9862250089645386), Point(token_index=21, time_index=94, score=0.9999960660934448), Point(token_index=21, time_index=95, score=0.9992632269859314), Point(token_index=21, time_index=96, score=0.9993434548377991), Point(token_index=22, time_index=97, score=0.9999983310699463), Point(token_index=22, time_index=98, score=0.9999971389770508), Point(token_index=22, time_index=99, score=0.9999998807907104), Point(token_index=22, time_index=100, score=0.9999995231628418), Point(token_index=23, time_index=101, score=0.9999732971191406), Point(token_index=23, time_index=102, score=0.9983118772506714), Point(token_index=23, time_index=103, score=0.9999991655349731), Point(token_index=23, time_index=104, score=0.9999996423721313), Point(token_index=23, time_index=105, score=0.9999998807907104), Point(token_index=23, time_index=106, score=1.0), Point(token_index=23, time_index=107, score=0.9998651742935181), Point(token_index=24, time_index=108, score=0.9999980926513672), Point(token_index=24, time_index=109, score=0.9988948106765747), Point(token_index=25, time_index=110, score=0.9999799728393555), Point(token_index=25, time_index=111, score=0.8579387664794922), Point(token_index=26, time_index=112, score=0.9999847412109375), Point(token_index=26, time_index=113, score=0.9870571494102478), Point(token_index=26, time_index=114, score=1.9072194845648482e-05), Point(token_index=27, time_index=115, score=0.9999796152114868), Point(token_index=27, time_index=116, score=0.9998253583908081), Point(token_index=28, time_index=117, score=0.9999990463256836), Point(token_index=28, time_index=118, score=0.9999734163284302), Point(token_index=28, time_index=119, score=0.0009133715648204088), Point(token_index=29, time_index=120, score=0.9993519186973572), Point(token_index=29, time_index=121, score=0.9975460171699524), Point(token_index=29, time_index=122, score=0.000308124755974859), Point(token_index=30, time_index=123, score=0.9999345541000366), Point(token_index=30, time_index=124, score=6.096740889915964e-06), Point(token_index=31, time_index=125, score=0.9833073616027832), Point(token_index=32, time_index=126, score=0.9974533915519714), Point(token_index=32, time_index=127, score=0.0008318837499246001), Point(token_index=33, time_index=128, score=0.9965078234672546), Point(token_index=33, time_index=129, score=0.01742866076529026), Point(token_index=34, time_index=130, score=0.9989151954650879), Point(token_index=35, time_index=131, score=0.9999697208404541), Point(token_index=35, time_index=132, score=0.9999845027923584), Point(token_index=36, time_index=133, score=0.9997655749320984), Point(token_index=36, time_index=134, score=0.4981653690338135), Point(token_index=37, time_index=135, score=0.999829888343811), Point(token_index=37, time_index=136, score=0.08468805253505707), Point(token_index=37, time_index=137, score=0.004080131649971008), Point(token_index=38, time_index=138, score=0.9999815225601196), Point(token_index=38, time_index=139, score=0.012060737237334251), Point(token_index=38, time_index=140, score=0.9999980926513672), Point(token_index=38, time_index=141, score=0.0005571743240579963), Point(token_index=39, time_index=142, score=0.9999035596847534), Point(token_index=39, time_index=143, score=0.9999960660934448), Point(token_index=39, time_index=144, score=0.9999980926513672), Point(token_index=40, time_index=145, score=0.9999915361404419), Point(token_index=40, time_index=146, score=0.9971227049827576), Point(token_index=40, time_index=147, score=0.9981805086135864), Point(token_index=41, time_index=148, score=0.9999309778213501), Point(token_index=41, time_index=149, score=0.987953782081604), Point(token_index=41, time_index=150, score=0.9997636675834656), Point(token_index=42, time_index=151, score=0.9999536275863647), Point(token_index=43, time_index=152, score=0.9999715089797974), Point(token_index=44, time_index=153, score=0.6775310039520264)]\n"
     ]
    }
   ],
   "source": [
    "@dataclass\n",
    "class Point:\n",
    "    token_index: int\n",
    "    time_index: int\n",
    "    score: float\n",
    "\n",
    "\n",
    "def backtrack(trellis, emission, tokens, blank_id=0):\n",
    "    # Note:\n",
    "    # j and t are indices for trellis, which has extra dimensions\n",
    "    # for time and tokens at the beginning.\n",
    "    # When referring to time frame index `T` in trellis,\n",
    "    # the corresponding index in emission is `T-1`.\n",
    "    # Similarly, when referring to token index `J` in trellis,\n",
    "    # the corresponding index in transcript is `J-1`.\n",
    "    j = trellis.size(1) - 1 # 最后一个token的index\n",
    "    t_start = torch.argmax(trellis[:, j]).item() # trellis[:, j]是最后一个token在所有时间片的概率 argmax就得到了推理出最后一个token时的时间片index\n",
    "\n",
    "    path = []\n",
    "    for t in range(t_start, 0, -1): # 从最后一个时间片迭代回起始时刻\n",
    "        # 1. Figure out if the current position was stay or change\n",
    "        # Note (again):\n",
    "        # `emission[J-1]` is the emission at time frame `J` of trellis dimension.\n",
    "        # Score for token staying the same from time frame J-1 to T.\n",
    "        stayed = trellis[t - 1, j] + emission[t - 1, blank_id]\n",
    "        # Score for token changing from C-1 at T-1 to J at T.\n",
    "        changed = trellis[t - 1, j - 1] + emission[t - 1, tokens[j - 1]] # 注意这里是tokens[j-1]代表了第j个token的概率\n",
    "\n",
    "        # 进行回溯，判断当时得到trellis[t, j]时，是从stayed过来的还是从changed过来的\n",
    "        # stayed的概率就是上一时刻还是j的概率 加上emission推理为None的概率\n",
    "        # changed的概率就是上一时刻j-1的概率 加上emission推理为j的概率\n",
    "\n",
    "        # 2. Store the path with frame-wise probability.\n",
    "        prob = emission[t - 1, tokens[j - 1] if changed > stayed else 0].exp().item() # 如果changed概率大 那么得到emission的概率 否则是0\n",
    "        # Return token index and time index in non-trellis coordinate.\n",
    "        path.append(Point(j - 1, t - 1, prob))\n",
    "\n",
    "        # 3. Update the token\n",
    "        if changed > stayed:\n",
    "            j -= 1\n",
    "            if j == 0:\n",
    "                break\n",
    "    else:\n",
    "        raise ValueError(\"Failed to align\")\n",
    "    return path[::-1]\n",
    "\n",
    "path = backtrack(trellis, emissions, tokens)\n",
    "print(path)"
   ],
   "metadata": {
    "collapsed": false,
    "pycharm": {
     "name": "#%%\n"
    }
   }
  },
  {
   "cell_type": "code",
   "execution_count": 20,
   "outputs": [
    {
     "data": {
      "text/plain": "<Figure size 1152x345.6 with 1 Axes>",
      "image/png": "[encoded data removed]"
     },
     "metadata": {
      "needs_background": "light"
     },
     "output_type": "display_data"
    }
   ],
   "source": [
    "def plot_trellis_with_path(trellis, path):\n",
    "    # To plot trellis with path, we take advantage of 'nan' value\n",
    "    trellis_with_path = trellis.clone()\n",
    "    for _, p in enumerate(path):\n",
    "        trellis_with_path[p.time_index, p.token_index] = float(\"nan\")\n",
    "    plt.imshow(trellis_with_path[1:, 1:].T, origin=\"lower\")\n",
    "\n",
    "\n",
    "plot_trellis_with_path(trellis, path)\n",
    "plt.title(\"The path found by backtracking\")\n",
    "plt.show()"
   ],
   "metadata": {
    "collapsed": false,
    "pycharm": {
     "name": "#%%\n"
    }
   }
  }
 ],
 "metadata": {
  "kernelspec": {
   "display_name": "Python 3",
   "language": "python",
   "name": "python3"
  },
  "language_info": {
   "codemirror_mode": {
    "name": "ipython",
    "version": 2
   },
   "file_extension": ".py",
   "mimetype": "text/x-python",
   "name": "python",
   "nbconvert_exporter": "python",
   "pygments_lexer": "ipython2",
   "version": "2.7.6"
  }
 },
 "nbformat": 4,
 "nbformat_minor": 0
}